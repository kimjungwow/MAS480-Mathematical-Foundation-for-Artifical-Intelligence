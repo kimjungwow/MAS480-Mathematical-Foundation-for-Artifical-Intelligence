{
 "cells": [
  {
   "cell_type": "code",
   "execution_count": 1,
   "metadata": {},
   "outputs": [],
   "source": [
    "import numpy as np\n",
    "import pandas as pd\n",
    "from sklearn.preprocessing import StandardScaler\n",
    "from sklearn.discriminant_analysis import LinearDiscriminantAnalysis\n",
    "import matplotlib.pyplot as plt\n",
    "import seaborn as sb\n",
    "from sklearn.model_selection import train_test_split"
   ]
  },
  {
   "cell_type": "code",
   "execution_count": 2,
   "metadata": {},
   "outputs": [
    {
     "data": {
      "text/html": [
       "<div>\n",
       "<style scoped>\n",
       "    .dataframe tbody tr th:only-of-type {\n",
       "        vertical-align: middle;\n",
       "    }\n",
       "\n",
       "    .dataframe tbody tr th {\n",
       "        vertical-align: top;\n",
       "    }\n",
       "\n",
       "    .dataframe thead th {\n",
       "        text-align: right;\n",
       "    }\n",
       "</style>\n",
       "<table border=\"1\" class=\"dataframe\">\n",
       "  <thead>\n",
       "    <tr style=\"text-align: right;\">\n",
       "      <th></th>\n",
       "      <th>area</th>\n",
       "      <th>perimeter</th>\n",
       "      <th>compactness</th>\n",
       "      <th>kernel_length</th>\n",
       "      <th>kernel_width</th>\n",
       "      <th>asymmetry_coefficient</th>\n",
       "      <th>kernel_groove_length</th>\n",
       "      <th>class</th>\n",
       "    </tr>\n",
       "  </thead>\n",
       "  <tbody>\n",
       "    <tr>\n",
       "      <td>0</td>\n",
       "      <td>15.26</td>\n",
       "      <td>14.84</td>\n",
       "      <td>0.8710</td>\n",
       "      <td>5.763</td>\n",
       "      <td>3.312</td>\n",
       "      <td>2.221</td>\n",
       "      <td>5.220</td>\n",
       "      <td>1</td>\n",
       "    </tr>\n",
       "    <tr>\n",
       "      <td>1</td>\n",
       "      <td>14.88</td>\n",
       "      <td>14.57</td>\n",
       "      <td>0.8811</td>\n",
       "      <td>5.554</td>\n",
       "      <td>3.333</td>\n",
       "      <td>1.018</td>\n",
       "      <td>4.956</td>\n",
       "      <td>1</td>\n",
       "    </tr>\n",
       "    <tr>\n",
       "      <td>2</td>\n",
       "      <td>14.29</td>\n",
       "      <td>14.09</td>\n",
       "      <td>0.9050</td>\n",
       "      <td>5.291</td>\n",
       "      <td>3.337</td>\n",
       "      <td>2.699</td>\n",
       "      <td>4.825</td>\n",
       "      <td>1</td>\n",
       "    </tr>\n",
       "    <tr>\n",
       "      <td>3</td>\n",
       "      <td>13.84</td>\n",
       "      <td>13.94</td>\n",
       "      <td>0.8955</td>\n",
       "      <td>5.324</td>\n",
       "      <td>3.379</td>\n",
       "      <td>2.259</td>\n",
       "      <td>4.805</td>\n",
       "      <td>1</td>\n",
       "    </tr>\n",
       "    <tr>\n",
       "      <td>4</td>\n",
       "      <td>16.14</td>\n",
       "      <td>14.99</td>\n",
       "      <td>0.9034</td>\n",
       "      <td>5.658</td>\n",
       "      <td>3.562</td>\n",
       "      <td>1.355</td>\n",
       "      <td>5.175</td>\n",
       "      <td>1</td>\n",
       "    </tr>\n",
       "  </tbody>\n",
       "</table>\n",
       "</div>"
      ],
      "text/plain": [
       "    area  perimeter  compactness  kernel_length  kernel_width  \\\n",
       "0  15.26      14.84       0.8710          5.763         3.312   \n",
       "1  14.88      14.57       0.8811          5.554         3.333   \n",
       "2  14.29      14.09       0.9050          5.291         3.337   \n",
       "3  13.84      13.94       0.8955          5.324         3.379   \n",
       "4  16.14      14.99       0.9034          5.658         3.562   \n",
       "\n",
       "   asymmetry_coefficient  kernel_groove_length  class  \n",
       "0                  2.221                 5.220      1  \n",
       "1                  1.018                 4.956      1  \n",
       "2                  2.699                 4.825      1  \n",
       "3                  2.259                 4.805      1  \n",
       "4                  1.355                 5.175      1  "
      ]
     },
     "execution_count": 2,
     "metadata": {},
     "output_type": "execute_result"
    }
   ],
   "source": [
    "train = pd.read_csv('./seeds.csv')\n",
    "z=train.columns[:-1]\n",
    "train.head()"
   ]
  },
  {
   "cell_type": "code",
   "execution_count": 3,
   "metadata": {},
   "outputs": [],
   "source": [
    "# Get mean of each attribute for each class\n",
    "C_1=train[train['class']==1][train.columns[:-1]]\n",
    "mu_1=np.mean(C_1)\n",
    "C_2=train[train['class']==2][train.columns[:-1]]\n",
    "mu_2=np.mean(C_2)\n",
    "C_3=train[train['class']==3][train.columns[:-1]]\n",
    "mu_3=np.mean(C_3)\n",
    "C_all=train[train.columns[:-1]]\n",
    "mu_all=np.mean(C_all)\n"
   ]
  },
  {
   "cell_type": "code",
   "execution_count": 4,
   "metadata": {},
   "outputs": [],
   "source": [
    "#print(np.array(train[train['class']==1])[0])\n",
    "S_1 = np.zeros(shape=(C_1.shape[1],C_1.shape[1]))\n",
    "S_2 = np.zeros(shape=(C_2.shape[1],C_2.shape[1]))\n",
    "S_3 = np.zeros(shape=(C_3.shape[1],C_3.shape[1]))\n",
    "\n",
    "for row in np.array(C_1):\n",
    "    row = np.array(row).reshape(7,1) - np.array(mu_1).reshape(7,1)\n",
    "    S_1 += row@row.T\n",
    "for row in np.array(C_2):\n",
    "    row = np.array(row).reshape(7,1) - np.array(mu_2).reshape(7,1)\n",
    "    S_2 += row@row.T\n",
    "for row in np.array(C_3):\n",
    "    row = np.array(row).reshape(7,1) - np.array(mu_3).reshape(7,1)\n",
    "    S_3 += row@row.T\n",
    "S_W=S_1+S_2+S_3"
   ]
  },
  {
   "cell_type": "code",
   "execution_count": 5,
   "metadata": {},
   "outputs": [],
   "source": [
    "S_B = np.zeros(shape=(C_3.shape[1],C_3.shape[1]))\n",
    "S_B += C_1.shape[0]*(np.array(mu_1)-np.array(mu_all))@(np.array(mu_1)-np.array(mu_all)).T\n",
    "S_B += C_2.shape[0]*(np.array(mu_2)-np.array(mu_all))@(np.array(mu_2)-np.array(mu_all)).T\n",
    "S_B += C_3.shape[0]*(np.array(mu_3)-np.array(mu_all))@(np.array(mu_3)-np.array(mu_all)).T\n"
   ]
  },
  {
   "cell_type": "code",
   "execution_count": 6,
   "metadata": {},
   "outputs": [
    {
     "name": "stdout",
     "output_type": "stream",
     "text": [
      "[ 3.77067067e+05  1.89285220e-15  0.00000000e+00 -8.24891415e-14\n",
      " -8.24891415e-14 -6.00828081e-12 -6.00828081e-12]\n"
     ]
    }
   ],
   "source": [
    "from numpy import linalg\n",
    "unsorted_eigvals, unsorted_eigvecs = np.linalg.eig(np.linalg.inv(S_W)@S_B)\n",
    "\n",
    "unsorted_eigvals = np.real(unsorted_eigvals)\n",
    "unsorted_eigvecs = np.real(unsorted_eigvecs)\n",
    "\n",
    "# Get indexs sorted descending order about eigenvalues\n",
    "# Since argsort doesn't support descending order, I put '-unsorted_eigvals' \n",
    "# instead of 'unsorted_eigvals'\n",
    "sorting = np.argsort(-unsorted_eigvals)\n",
    "\n",
    "\n",
    "# Sort eigenvalues in descending order\n",
    "sorted_eigvals = unsorted_eigvals[sorting]\n",
    "\n",
    "# Change the order of eigenvectors suitably for the order of eigenvalues\n",
    "# Since eigenvectors are columns of unsorted_eigvecs,\n",
    "# I used sorted index for column index instead of row index\n",
    "sorted_eigvecs=unsorted_eigvecs[:,sorting]\n",
    "\n",
    "print(sorted_eigvals)"
   ]
  },
  {
   "cell_type": "code",
   "execution_count": 7,
   "metadata": {},
   "outputs": [],
   "source": [
    "W = np.vstack((np.array(sorted_eigvecs[0]),np.array(sorted_eigvecs[1])))\n",
    "W=W.T"
   ]
  },
  {
   "cell_type": "code",
   "execution_count": 8,
   "metadata": {},
   "outputs": [
    {
     "data": {
      "text/plain": [
       "<matplotlib.legend.Legend at 0x7f1bdaab7610>"
      ]
     },
     "execution_count": 8,
     "metadata": {},
     "output_type": "execute_result"
    },
    {
     "data": {
      "image/png": "[encoded data removed]",
      "text/plain": [
       "<Figure size 432x288 with 1 Axes>"
      ]
     },
     "metadata": {
      "needs_background": "light"
     },
     "output_type": "display_data"
    }
   ],
   "source": [
    "twodim_X1=pd.DataFrame(C_1@W)\n",
    "twodim_X2=pd.DataFrame(C_2@W)\n",
    "twodim_X3=pd.DataFrame(C_3@W)\n",
    "\n",
    "plt.xlabel('eigvec1')\n",
    "plt.ylabel('eigvec2')\n",
    "\n",
    "plt.scatter(np.real(twodim_X1.iloc[:,0].to_numpy()),\n",
    "    np.real(twodim_X1.iloc[:,1].to_numpy()),label='Kama')\n",
    "plt.scatter(np.real(twodim_X2.iloc[:,0].to_numpy()),\n",
    "    np.real(twodim_X2.iloc[:,1].to_numpy()),label='Rosa')\n",
    "plt.scatter(np.real(twodim_X3.iloc[:,0].to_numpy()),\n",
    "    np.real(twodim_X3.iloc[:,1].to_numpy()),label='Canadian')\n",
    "plt.legend()"
   ]
  },
  {
   "cell_type": "code",
   "execution_count": 9,
   "metadata": {},
   "outputs": [],
   "source": [
    "X=train[train.columns[:-1]]\n",
    "y=train['class']\n",
    "LDA = LinearDiscriminantAnalysis()\n",
    "X_lda = LDA.fit_transform(X, y)"
   ]
  },
  {
   "cell_type": "code",
   "execution_count": 10,
   "metadata": {},
   "outputs": [
    {
     "name": "stdout",
     "output_type": "stream",
     "text": [
      "(210, 2)\n"
     ]
    },
    {
     "data": {
      "text/plain": [
       "<matplotlib.legend.Legend at 0x7f1ba9e2c2d0>"
      ]
     },
     "execution_count": 10,
     "metadata": {},
     "output_type": "execute_result"
    },
    {
     "data": {
      "image/png": "[encoded data removed]",
      "text/plain": [
       "<Figure size 432x288 with 1 Axes>"
      ]
     },
     "metadata": {
      "needs_background": "light"
     },
     "output_type": "display_data"
    }
   ],
   "source": [
    "print(X_lda.shape)\n",
    "plt.xlabel('eigvec1')\n",
    "plt.ylabel('eigvec2')\n",
    "\n",
    "plt.scatter(np.real( X_lda[y==1][:,0]),\n",
    "    np.real( X_lda[y==1][:,1]),label='Kama')\n",
    "plt.scatter(np.real( X_lda[y==2][:,0]),\n",
    "    np.real( X_lda[y==2][:,1]),label='Rosa')\n",
    "plt.scatter(np.real( X_lda[y==3][:,0]),\n",
    "    np.real( X_lda[y==3][:,1]),label='Canadian')\n",
    "plt.legend()"
   ]
  },
  {
   "cell_type": "code",
   "execution_count": 11,
   "metadata": {},
   "outputs": [],
   "source": [
    "from sklearn.decomposition import PCA\n",
    "pca = PCA(n_components=2, svd_solver='randomized', whiten=True)\n",
    "X_pca = pca.fit_transform(X, y)"
   ]
  },
  {
   "cell_type": "code",
   "execution_count": 12,
   "metadata": {},
   "outputs": [
    {
     "data": {
      "text/plain": [
       "<matplotlib.legend.Legend at 0x7f1ba811ae50>"
      ]
     },
     "execution_count": 12,
     "metadata": {},
     "output_type": "execute_result"
    },
    {
     "data": {
      "image/png": "[encoded data removed]",
      "text/plain": [
       "<Figure size 432x288 with 1 Axes>"
      ]
     },
     "metadata": {
      "needs_background": "light"
     },
     "output_type": "display_data"
    }
   ],
   "source": [
    "plt.xlabel('PCA1')\n",
    "plt.ylabel('PCA2')\n",
    "\n",
    "plt.scatter(np.real( X_pca[y==1][:,0]),\n",
    "    np.real( X_pca[y==1][:,1]),label='Kama')\n",
    "plt.scatter(np.real( X_pca[y==2][:,0]),\n",
    "    np.real( X_pca[y==2][:,1]),label='Rosa')\n",
    "plt.scatter(np.real( X_pca[y==3][:,0]),\n",
    "    np.real( X_pca[y==3][:,1]),label='Canadian')\n",
    "plt.legend()"
   ]
  }
 ],
 "metadata": {
  "kernelspec": {
   "display_name": "Python 3",
   "language": "python",
   "name": "python3"
  },
  "language_info": {
   "codemirror_mode": {
    "name": "ipython",
    "version": 3
   },
   "file_extension": ".py",
   "mimetype": "text/x-python",
   "name": "python",
   "nbconvert_exporter": "python",
   "pygments_lexer": "ipython3",
   "version": "3.7.4"
  }
 },
 "nbformat": 4,
 "nbformat_minor": 2
}
